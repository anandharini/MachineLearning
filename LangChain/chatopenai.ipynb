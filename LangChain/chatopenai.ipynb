{
 "cells": [
  {
   "cell_type": "code",
   "execution_count": 1,
   "id": "aaf9ac92-e78a-4361-b66c-6a56a63994dc",
   "metadata": {
    "tags": []
   },
   "outputs": [],
   "source": [
    "#!pip install -U langchain-openai\n",
    "#!pip install python-dotenv"
   ]
  },
  {
   "cell_type": "code",
   "execution_count": 2,
   "id": "6e5a8159-d927-496b-84cb-75ad473e1210",
   "metadata": {
    "tags": []
   },
   "outputs": [],
   "source": [
    "import os\n",
    "from langchain_openai import ChatOpenAI\n",
    "from dotenv import load_dotenv"
   ]
  },
  {
   "cell_type": "code",
   "execution_count": 3,
   "id": "2242ac62-1dc2-4c9c-bca9-4b1e215a50ad",
   "metadata": {
    "tags": []
   },
   "outputs": [
    {
     "data": {
      "text/plain": [
       "True"
      ]
     },
     "execution_count": 3,
     "metadata": {},
     "output_type": "execute_result"
    }
   ],
   "source": [
    "load_dotenv()"
   ]
  },
  {
   "cell_type": "code",
   "execution_count": 4,
   "id": "d4044494-72d3-4734-a93a-8d83fa8661c2",
   "metadata": {
    "tags": []
   },
   "outputs": [],
   "source": [
    "OPENAI_API_KEY = os.getenv('OPENAI_API_KEY')\n",
    "LANGSMITH_API_KEY = os.getenv('LANGSMITH_API_KEY')\n",
    "LANGSMITH_TRACING = os.getenv('LANGSMITH_TRACING')"
   ]
  },
  {
   "cell_type": "markdown",
   "id": "582febb1-966f-4b63-92b9-71c9ae9fb423",
   "metadata": {},
   "source": [
    "# ChatOpenAI"
   ]
  },
  {
   "cell_type": "code",
   "execution_count": 5,
   "id": "6abf9a5b-0b02-4a38-a2bf-3da43c754776",
   "metadata": {
    "tags": []
   },
   "outputs": [],
   "source": [
    "llm = ChatOpenAI(\n",
    "    model=\"gpt-4o\",\n",
    "    temperature=0,\n",
    "    max_tokens=None,\n",
    "    timeout=None,\n",
    "    max_retries=2)"
   ]
  },
  {
   "cell_type": "code",
   "execution_count": 6,
   "id": "8248b627-1604-4a46-bc17-aca57c14e410",
   "metadata": {
    "tags": []
   },
   "outputs": [
    {
     "data": {
      "text/plain": [
       "AIMessage(content=\"J'adore la programmation.\", response_metadata={'token_usage': {'completion_tokens': 5, 'prompt_tokens': 31, 'total_tokens': 36}, 'model_name': 'gpt-4o-2024-05-13', 'system_fingerprint': 'fp_d576307f90', 'finish_reason': 'stop', 'logprobs': None}, id='run-9243114a-bb08-4554-9307-a653d169a7bf-0', usage_metadata={'input_tokens': 31, 'output_tokens': 5, 'total_tokens': 36})"
      ]
     },
     "execution_count": 6,
     "metadata": {},
     "output_type": "execute_result"
    }
   ],
   "source": [
    "messages = [\n",
    "           (\"system\",\"You are a helpful assistant that translates English to French. Translate the user sentence.\"),\n",
    "           (\"human\", \"I love programming.\"),\n",
    "           ]\n",
    "ai_msg = llm.invoke(messages)\n",
    "ai_msg"
   ]
  },
  {
   "cell_type": "code",
   "execution_count": 7,
   "id": "8c06f8fb-e399-496e-845c-97ceaaba4014",
   "metadata": {
    "tags": []
   },
   "outputs": [
    {
     "name": "stdout",
     "output_type": "stream",
     "text": [
      "J'adore la programmation.\n"
     ]
    }
   ],
   "source": [
    "print(ai_msg.content)"
   ]
  },
  {
   "cell_type": "markdown",
   "id": "0dcc88fc-bbba-4ed0-960b-f9a70145d2c6",
   "metadata": {},
   "source": [
    "# Chaining"
   ]
  },
  {
   "cell_type": "code",
   "execution_count": 8,
   "id": "902ec019-b973-4be4-8310-58108c4dd0a0",
   "metadata": {
    "tags": []
   },
   "outputs": [],
   "source": [
    "from langchain_core.prompts import ChatPromptTemplate"
   ]
  },
  {
   "cell_type": "code",
   "execution_count": 9,
   "id": "a7f89158-3ec7-4e0c-bd5c-4e09eccdaecc",
   "metadata": {
    "tags": []
   },
   "outputs": [
    {
     "data": {
      "text/plain": [
       "AIMessage(content='Ich liebe das Programmieren.', response_metadata={'token_usage': {'completion_tokens': 6, 'prompt_tokens': 26, 'total_tokens': 32}, 'model_name': 'gpt-4o-2024-05-13', 'system_fingerprint': 'fp_d576307f90', 'finish_reason': 'stop', 'logprobs': None}, id='run-acf69d85-0d0f-4921-97ac-d0f37e60d102-0', usage_metadata={'input_tokens': 26, 'output_tokens': 6, 'total_tokens': 32})"
      ]
     },
     "execution_count": 9,
     "metadata": {},
     "output_type": "execute_result"
    }
   ],
   "source": [
    "prompt = ChatPromptTemplate.from_messages(\n",
    "    [\n",
    "        (\"system\", \"You are a helpful assistant that translates {input_language} to {output_language}.\"),\n",
    "        (\"human\", \"{input}\"),\n",
    "    ]\n",
    ")\n",
    "\n",
    "chain = prompt | llm\n",
    "chain.invoke(\n",
    "    {\n",
    "        \"input_language\": \"English\",\n",
    "        \"output_language\": \"German\",\n",
    "        \"input\": \"I love programming.\",\n",
    "    }\n",
    ")"
   ]
  },
  {
   "cell_type": "markdown",
   "id": "f7a3e67d-db6d-4421-a185-f9e99d146ccb",
   "metadata": {},
   "source": [
    "# Tool Calling\n",
    "\n",
    "#### ChatOpenAI.bind_tools()\n",
    "\n",
    "Lets you describe tools and their arguments, and have the model return a JSON object with a tool to invoke and the inputs to that tool. tool-calling is extremely useful for building tool-using chains and agents, and for getting structured outputs from models more generally."
   ]
  },
  {
   "cell_type": "code",
   "execution_count": 10,
   "id": "d3ef9703-d66e-4677-a33c-949a5b074c83",
   "metadata": {
    "tags": []
   },
   "outputs": [],
   "source": [
    "from langchain_core.pydantic_v1 import BaseModel, Field"
   ]
  },
  {
   "cell_type": "code",
   "execution_count": 11,
   "id": "ba6737fe-1519-4902-88e1-e65db009aa37",
   "metadata": {
    "tags": []
   },
   "outputs": [],
   "source": [
    "class GetWeather(BaseModel):\n",
    "    \"\"\"Get the current weather in a given location\"\"\"\n",
    "\n",
    "    location: str = Field(..., description=\"The city and state, e.g. San Francisco, CA\")"
   ]
  },
  {
   "cell_type": "code",
   "execution_count": 12,
   "id": "5a130fe5-6044-42c2-9bdb-ade693310773",
   "metadata": {
    "tags": []
   },
   "outputs": [],
   "source": [
    "llm_with_tools = llm.bind_tools([GetWeather])"
   ]
  },
  {
   "cell_type": "code",
   "execution_count": 13,
   "id": "f1d3ce52-dfc5-42ed-80a1-aa41f4d7a14e",
   "metadata": {
    "tags": []
   },
   "outputs": [
    {
     "data": {
      "text/plain": [
       "AIMessage(content='', additional_kwargs={'tool_calls': [{'id': 'call_TskRR5wPU7FCUmtPEXJTiY6r', 'function': {'arguments': '{\"location\":\"Long Grove, IL\"}', 'name': 'GetWeather'}, 'type': 'function'}]}, response_metadata={'token_usage': {'completion_tokens': 17, 'prompt_tokens': 68, 'total_tokens': 85}, 'model_name': 'gpt-4o-2024-05-13', 'system_fingerprint': 'fp_ce0793330f', 'finish_reason': 'tool_calls', 'logprobs': None}, id='run-54b583f6-b7e0-4f5a-aae2-a49105db01aa-0', tool_calls=[{'name': 'GetWeather', 'args': {'location': 'Long Grove, IL'}, 'id': 'call_TskRR5wPU7FCUmtPEXJTiY6r'}], usage_metadata={'input_tokens': 68, 'output_tokens': 17, 'total_tokens': 85})"
      ]
     },
     "execution_count": 13,
     "metadata": {},
     "output_type": "execute_result"
    }
   ],
   "source": [
    "ai_msg = llm_with_tools.invoke(\n",
    "    \"what is the weather like in Long Grove\",\n",
    ")\n",
    "ai_msg"
   ]
  },
  {
   "cell_type": "code",
   "execution_count": 14,
   "id": "27177df9-5073-43b4-baed-7129c8767fc8",
   "metadata": {
    "tags": []
   },
   "outputs": [
    {
     "data": {
      "text/plain": [
       "[{'name': 'GetWeather',\n",
       "  'args': {'location': 'Long Grove, IL'},\n",
       "  'id': 'call_TskRR5wPU7FCUmtPEXJTiY6r'}]"
      ]
     },
     "execution_count": 14,
     "metadata": {},
     "output_type": "execute_result"
    }
   ],
   "source": [
    "ai_msg.tool_calls"
   ]
  },
  {
   "cell_type": "code",
   "execution_count": 15,
   "id": "a92f6762-1a51-48df-b22a-76d2a5037cad",
   "metadata": {
    "tags": []
   },
   "outputs": [
    {
     "data": {
      "text/plain": [
       "''"
      ]
     },
     "execution_count": 15,
     "metadata": {},
     "output_type": "execute_result"
    }
   ],
   "source": [
    "ai_msg.content"
   ]
  },
  {
   "cell_type": "markdown",
   "id": "ec0b7151-d9ec-479d-aab2-bf5bf2377474",
   "metadata": {},
   "source": [
    "# Fine-tuning\n",
    "\n",
    "Fine tuned models should be in the form of ft:{OPENAI_MODEL_NAME}:{ORG_NAME}::{MODEL_ID}. "
   ]
  },
  {
   "cell_type": "code",
   "execution_count": 16,
   "id": "e0a1aff4-07d5-40ca-a37d-b927b31a1fd0",
   "metadata": {
    "tags": []
   },
   "outputs": [],
   "source": [
    "#fine_tuned_model = ChatOpenAI(\n",
    "#    temperature=0, model_name=\"ft:gpt-3.5-turbo-0613:langchain::7qTVM5AR\"\n",
    "#)\n",
    "\n",
    "#fine_tuned_model(messages)"
   ]
  },
  {
   "cell_type": "code",
   "execution_count": null,
   "id": "6bf625cd-3972-4c2e-b8f6-764582debcf6",
   "metadata": {},
   "outputs": [],
   "source": []
  }
 ],
 "metadata": {
  "kernelspec": {
   "display_name": "conda_python3",
   "language": "python",
   "name": "conda_python3"
  },
  "language_info": {
   "codemirror_mode": {
    "name": "ipython",
    "version": 3
   },
   "file_extension": ".py",
   "mimetype": "text/x-python",
   "name": "python",
   "nbconvert_exporter": "python",
   "pygments_lexer": "ipython3",
   "version": "3.10.14"
  }
 },
 "nbformat": 4,
 "nbformat_minor": 5
}
