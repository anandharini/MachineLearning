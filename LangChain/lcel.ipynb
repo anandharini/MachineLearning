{
 "cells": [
  {
   "cell_type": "code",
   "execution_count": 1,
   "id": "98aa9d61-bd12-4cf0-befc-d1a600052776",
   "metadata": {
    "tags": []
   },
   "outputs": [],
   "source": [
    "from langchain_openai import ChatOpenAI\n",
    "from langchain_core.prompts import ChatPromptTemplate\n",
    "from langchain_core.output_parsers import StrOutputParser\n",
    "from dotenv import load_dotenv\n",
    "import os"
   ]
  },
  {
   "cell_type": "code",
   "execution_count": 2,
   "id": "0be0519d-9581-488a-b8aa-81ae2f8cdd28",
   "metadata": {
    "tags": []
   },
   "outputs": [
    {
     "data": {
      "text/plain": [
       "True"
      ]
     },
     "execution_count": 2,
     "metadata": {},
     "output_type": "execute_result"
    }
   ],
   "source": [
    "load_dotenv()"
   ]
  },
  {
   "cell_type": "code",
   "execution_count": 3,
   "id": "42ddf9e5-6b26-4568-aa71-3f886ae1fc2e",
   "metadata": {
    "tags": []
   },
   "outputs": [],
   "source": [
    "OPENAI_API_KEY = os.getenv('OPENAI_API_KEY')\n",
    "LANGSMITH_API_KEY = os.getenv('LANGSMITH_API_KEY')\n",
    "LANGSMITH_TRACING = os.getenv('LANGSMITH_TRACING')\n",
    "TAVILY_API_KEY = os.getenv('TAVILY_API_KEY')"
   ]
  },
  {
   "cell_type": "code",
   "execution_count": 4,
   "id": "7c93bbc4-96d3-4ead-912a-fbc2fd4ed19a",
   "metadata": {
    "tags": []
   },
   "outputs": [],
   "source": [
    "prompt = ChatPromptTemplate.from_template(\"Tell me about the {science topic} \")\n",
    "model = ChatOpenAI()\n",
    "output_parser = StrOutputParser()"
   ]
  },
  {
   "cell_type": "code",
   "execution_count": 5,
   "id": "878b4fe6-abea-489c-98dc-8298d6ae31f4",
   "metadata": {},
   "outputs": [],
   "source": [
    "chain = prompt | model | output_parser"
   ]
  },
  {
   "cell_type": "code",
   "execution_count": 6,
   "id": "e8b2a36e-d12c-4983-90be-aec5421f8b61",
   "metadata": {
    "tags": []
   },
   "outputs": [
    {
     "data": {
      "text/plain": [
       "\"Earth geology has evolved significantly over billions of years, with various processes shaping the planet's surface and interior. The evolution of Earth's geology can be divided into several key stages:\\n\\n1. Formation of Earth: Approximately 4.6 billion years ago, Earth formed from a cloud of gas and dust in the early solar system. The planet's surface was initially molten due to intense heat from the formation process.\\n\\n2. Differentiation: Around 4.5 billion years ago, Earth's interior began to differentiate into distinct layers, with heavier materials sinking towards the core and lighter materials rising towards the surface. This process led to the formation of the core, mantle, and crust.\\n\\n3. Formation of the oceans and atmosphere: About 4.4 billion years ago, Earth's surface began to cool, allowing water vapor to condense and form the oceans. At the same time, volcanic activity released gases that formed the early atmosphere.\\n\\n4. Plate tectonics: Around 3 billion years ago, Earth's crust began to move and shift due to the process of plate tectonics. This movement continues to shape the planet's surface today, with the formation of mountains, earthquakes, and volcanic activity.\\n\\n5. Evolution of life: Approximately 3.5 billion years ago, life began to evolve on Earth, leading to the development of complex ecosystems and biodiversity. The presence of life has had a significant impact on Earth's geology, influencing processes such as weathering, erosion, and sedimentation.\\n\\n6. Impact events: Throughout Earth's history, the planet has been impacted by asteroids and comets, leading to mass extinctions and significant changes in geology. These events have played a crucial role in shaping the planet's surface and evolution.\\n\\nOverall, the evolution of Earth's geology is a complex and dynamic process that continues to shape the planet today. By studying the geological record, scientists can gain insights into the history of Earth and the processes that have shaped our planet over billions of years.\""
      ]
     },
     "execution_count": 6,
     "metadata": {},
     "output_type": "execute_result"
    }
   ],
   "source": [
    "chain.invoke({\"science topic\":\"evolution of earth geology\"})"
   ]
  },
  {
   "cell_type": "markdown",
   "id": "8d724059-ca2a-4e0d-bc0f-53a83e1099e7",
   "metadata": {},
   "source": [
    "# Batch"
   ]
  },
  {
   "cell_type": "code",
   "execution_count": 7,
   "id": "673d9504-3c8b-4d69-8fa2-274e3da91c24",
   "metadata": {
    "tags": []
   },
   "outputs": [
    {
     "data": {
      "text/plain": [
       "[\"The Moon does not have a substantial atmosphere like Earth does. It is considered to have an exosphere, which is an extremely thin layer of gases that are not bound by gravity and are constantly escaping into space.\\n\\nThe Moon's exosphere is made up of various gases, including helium, neon, hydrogen, and trace amounts of other elements. These gases are thought to have been released from the Moon's interior through volcanic activity, as well as from solar wind and micrometeorite impacts.\\n\\nBecause the Moon has such a thin atmosphere, it is unable to retain heat like Earth does, resulting in extreme temperature variations between day and night. During the day, temperatures on the Moon can reach up to 127 degrees Celsius (260 degrees Fahrenheit), while at night, temperatures can drop to as low as -173 degrees Celsius (-280 degrees Fahrenheit).\\n\\nOverall, the Moon's atmosphere is very different from Earth's and plays a minimal role in the Moon's environment and conditions.\",\n",
       " 'DNA, or deoxyribonucleic acid, is a molecule that contains the genetic instructions for the development, functioning, growth, and reproduction of all living organisms. It is composed of two long chains of nucleotides that are twisted into a double helix structure. Each nucleotide consists of a sugar molecule, a phosphate group, and one of four nitrogenous bases - adenine (A), thymine (T), cytosine (C), and guanine (G).\\n\\nThe sequence of these nitrogenous bases along the DNA molecule determines the genetic code that is responsible for the unique characteristics of each organism. This code is used by cells to produce proteins, which carry out specific functions within the body.\\n\\nDNA is found in the nucleus of eukaryotic cells and in the cytoplasm of prokaryotic cells. It is passed down from parents to offspring during reproduction, ensuring that genetic information is transferred from one generation to the next.\\n\\nAdvances in DNA technology have allowed scientists to study and manipulate genetic material, leading to breakthroughs in fields such as medicine, agriculture, and forensic science. DNA testing is commonly used to identify individuals, determine paternity, diagnose genetic disorders, and study evolutionary relationships between species.']"
      ]
     },
     "execution_count": 7,
     "metadata": {},
     "output_type": "execute_result"
    }
   ],
   "source": [
    "chain.batch([{\"science topic\": \"Moon atmosphere\"}, {\"science topic\": \"dna\"}])"
   ]
  },
  {
   "cell_type": "markdown",
   "id": "0856ece2-691b-40be-aa55-bbea965b7ca3",
   "metadata": {},
   "source": [
    "# Streaming"
   ]
  },
  {
   "cell_type": "code",
   "execution_count": 8,
   "id": "2e717ac8-ee45-48df-84de-5e9f8fffcd4b",
   "metadata": {
    "tags": []
   },
   "outputs": [
    {
     "name": "stdout",
     "output_type": "stream",
     "text": [
      "\n",
      "The\n",
      " Moon\n",
      " does\n",
      " not\n",
      " have\n",
      " a\n",
      " significant\n",
      " atmosphere\n",
      " like\n",
      " Earth\n",
      " does\n",
      ".\n",
      " It\n",
      " is\n",
      " very\n",
      " thin\n",
      " and\n",
      " composed\n",
      " mostly\n",
      " of\n",
      " helium\n",
      ",\n",
      " neon\n",
      ",\n",
      " and\n",
      " hydrogen\n",
      ".\n",
      " The\n",
      " lack\n",
      " of\n",
      " a\n",
      " thick\n",
      " atmosphere\n",
      " means\n",
      " that\n",
      " the\n",
      " Moon\n",
      " does\n",
      " not\n",
      " have\n",
      " weather\n",
      " patterns\n",
      " like\n",
      " Earth\n",
      ",\n",
      " such\n",
      " as\n",
      " wind\n",
      " and\n",
      " clouds\n",
      ".\n",
      " The\n",
      " Moon\n",
      "'s\n",
      " atmosphere\n",
      " also\n",
      " does\n",
      " not\n",
      " provide\n",
      " protection\n",
      " from\n",
      " harmful\n",
      " radiation\n",
      " from\n",
      " the\n",
      " sun\n",
      ",\n",
      " so\n",
      " astronauts\n",
      " on\n",
      " the\n",
      " Moon\n",
      " are\n",
      " exposed\n",
      " to\n",
      " higher\n",
      " levels\n",
      " of\n",
      " radiation\n",
      " than\n",
      " they\n",
      " would\n",
      " be\n",
      " on\n",
      " Earth\n",
      ".\n",
      " Overall\n",
      ",\n",
      " the\n",
      " Moon\n",
      "'s\n",
      " atmosphere\n",
      " is\n",
      " very\n",
      " different\n",
      " from\n",
      " Earth\n",
      "'s\n",
      " and\n",
      " is\n",
      " not\n",
      " able\n",
      " to\n",
      " support\n",
      " life\n",
      " as\n",
      " we\n",
      " know\n",
      " it\n",
      ".\n",
      "\n"
     ]
    }
   ],
   "source": [
    "for s in chain.stream({\"science topic\": \"Moon atmosphere\"}):\n",
    "    print(s)"
   ]
  },
  {
   "cell_type": "markdown",
   "id": "c7e7686d-4c44-4911-a309-5ca2669b1a79",
   "metadata": {},
   "source": [
    "# RunnablePassthrough"
   ]
  },
  {
   "cell_type": "code",
   "execution_count": 9,
   "id": "19175aac-3c14-4d2f-905f-ee8ad099a5a6",
   "metadata": {
    "tags": []
   },
   "outputs": [],
   "source": [
    "#!pip install langchain_community\n",
    "#!pip install tavily-python"
   ]
  },
  {
   "cell_type": "code",
   "execution_count": 10,
   "id": "227cd85c-897a-4169-abe1-2b4845754f25",
   "metadata": {
    "tags": []
   },
   "outputs": [],
   "source": [
    "from langchain_community.retrievers.tavily_search_api import TavilySearchAPIRetriever"
   ]
  },
  {
   "cell_type": "code",
   "execution_count": 11,
   "id": "ddf70a26-4440-4d6a-af78-97f2c83409a8",
   "metadata": {
    "tags": []
   },
   "outputs": [],
   "source": [
    "retriever= TavilySearchAPIRetriever()"
   ]
  },
  {
   "cell_type": "code",
   "execution_count": 12,
   "id": "e0a8059c-bc69-4ada-bf5f-fce03ffe77e0",
   "metadata": {
    "tags": []
   },
   "outputs": [],
   "source": [
    "prompt = ChatPromptTemplate.from_template(\"\"\"Answer the question based only on the context provided:\n",
    "\n",
    "Context: {context}\n",
    "\n",
    "Question: {question}\"\"\")"
   ]
  },
  {
   "cell_type": "code",
   "execution_count": 13,
   "id": "d6afaf9b-50b2-4268-bca9-8a120d2951be",
   "metadata": {
    "tags": []
   },
   "outputs": [],
   "source": [
    "chain = prompt | model | output_parser"
   ]
  },
  {
   "cell_type": "code",
   "execution_count": 14,
   "id": "284a52b7-856f-470a-9c6a-b36c2c0548f3",
   "metadata": {
    "tags": []
   },
   "outputs": [
    {
     "data": {
      "text/plain": [
       "'langsmith is a testing and observability platform built by the langchain team.'"
      ]
     },
     "execution_count": 14,
     "metadata": {},
     "output_type": "execute_result"
    }
   ],
   "source": [
    "question = \"what is langsmith\"\n",
    "context = \"langsmith is a testing and observability platform built by the langchain team\"\n",
    "chain.invoke({\"question\": question, \"context\": context})"
   ]
  },
  {
   "cell_type": "code",
   "execution_count": 15,
   "id": "92086f08-3e79-4bed-aad0-978153aa679a",
   "metadata": {
    "tags": []
   },
   "outputs": [],
   "source": [
    "from langchain_core.runnables import RunnablePassthrough\n",
    "\n",
    "retrieval_chain = RunnablePassthrough.assign(\n",
    "    context=(lambda x: x[\"question\"]) | retriever\n",
    ") | chain"
   ]
  },
  {
   "cell_type": "code",
   "execution_count": 16,
   "id": "df293a7a-235b-4d2f-a7ed-617976c73401",
   "metadata": {
    "tags": []
   },
   "outputs": [
    {
     "data": {
      "text/plain": [
       "'LangSmith is a platform that helps you build, debug, and deploy language model applications and intelligent agents. It allows you to visualize the inputs and outputs of each step in the chain, run experiments, and share results with the community.'"
      ]
     },
     "execution_count": 16,
     "metadata": {},
     "output_type": "execute_result"
    }
   ],
   "source": [
    "retrieval_chain.invoke({\"question\": \"what is langsmith\"})"
   ]
  },
  {
   "cell_type": "markdown",
   "id": "f907efd9-9fdb-4753-bff5-65483e2737ec",
   "metadata": {},
   "source": [
    "# RunnableParallel"
   ]
  },
  {
   "cell_type": "code",
   "execution_count": 17,
   "id": "13720c09-5f00-4cf5-ae70-605b5d7d86fc",
   "metadata": {
    "tags": []
   },
   "outputs": [],
   "source": [
    "from langchain_core.runnables import RunnableParallel"
   ]
  },
  {
   "cell_type": "code",
   "execution_count": 18,
   "id": "32727289-2e5b-490d-a54a-edfe5c60b7a6",
   "metadata": {
    "tags": []
   },
   "outputs": [],
   "source": [
    "prompt = ChatPromptTemplate.from_template(\"\"\"{question}\"\"\")\n",
    "simple_chain = prompt | model | output_parser"
   ]
  },
  {
   "cell_type": "code",
   "execution_count": 19,
   "id": "780b6cc5-1a30-4877-a5e2-529c2c06ac42",
   "metadata": {
    "tags": []
   },
   "outputs": [],
   "source": [
    "parallel_chain = RunnableParallel({\n",
    "    \"retrieved_answer\": retrieval_chain,\n",
    "    \"simple_answer\": simple_chain\n",
    "})"
   ]
  },
  {
   "cell_type": "code",
   "execution_count": 20,
   "id": "1638b730-44df-44ff-921c-4634ccd80eb4",
   "metadata": {
    "tags": []
   },
   "outputs": [
    {
     "data": {
      "text/plain": [
       "{'retrieved_answer': 'LangSmith is a platform for developing, monitoring, testing, and evaluating language model applications and intelligent agents. It provides tools to debug, test, evaluate, and monitor chains and agents built on any Large Language Model (LLM) framework, specifically integrating with LangChain. It also offers interactive walkthroughs, documentation, cookbook, and feedback options to help users transition from prototyping to production.',\n",
       " 'simple_answer': 'Langsmith is a platform that helps learners improve their language skills through personalized lessons and feedback from native speakers. It provides language learning resources, tutoring services, and a community of language learners to practice with.'}"
      ]
     },
     "execution_count": 20,
     "metadata": {},
     "output_type": "execute_result"
    }
   ],
   "source": [
    "parallel_chain.invoke({\"question\": \"what is langsmith\"})"
   ]
  },
  {
   "cell_type": "code",
   "execution_count": 21,
   "id": "d8fd7af2-828b-47f9-9310-ef7dee891c2a",
   "metadata": {
    "tags": []
   },
   "outputs": [
    {
     "name": "stdout",
     "output_type": "stream",
     "text": [
      "{'simple_answer': ''}\n",
      "{'simple_answer': 'Lang'}\n",
      "{'simple_answer': 'smith'}\n",
      "{'simple_answer': ' is'}\n",
      "{'simple_answer': ' a'}\n",
      "{'simple_answer': ' surname'}\n",
      "{'simple_answer': ' of'}\n",
      "{'simple_answer': ' English'}\n",
      "{'simple_answer': ' origin'}\n",
      "{'simple_answer': '.'}\n",
      "{'simple_answer': ' It'}\n",
      "{'simple_answer': ' is'}\n",
      "{'simple_answer': ' not'}\n",
      "{'simple_answer': ' a'}\n",
      "{'simple_answer': ' common'}\n",
      "{'simple_answer': ' surname'}\n",
      "{'simple_answer': ' and'}\n",
      "{'simple_answer': ' it'}\n",
      "{'simple_answer': ' is'}\n",
      "{'simple_answer': ' not'}\n",
      "{'simple_answer': ' associated'}\n",
      "{'simple_answer': ' with'}\n",
      "{'simple_answer': ' any'}\n",
      "{'simple_answer': ' specific'}\n",
      "{'simple_answer': ' meaning'}\n",
      "{'simple_answer': ' or'}\n",
      "{'simple_answer': ' historical'}\n",
      "{'simple_answer': ' significance'}\n",
      "{'simple_answer': '.'}\n",
      "{'simple_answer': ''}\n",
      "{'retrieved_answer': ''}\n",
      "{'retrieved_answer': 'Lang'}\n",
      "{'retrieved_answer': 'Smith'}\n",
      "{'retrieved_answer': ' is'}\n",
      "{'retrieved_answer': ' a'}\n",
      "{'retrieved_answer': ' platform'}\n",
      "{'retrieved_answer': ' that'}\n",
      "{'retrieved_answer': ' helps'}\n",
      "{'retrieved_answer': ' users'}\n",
      "{'retrieved_answer': ' debug'}\n",
      "{'retrieved_answer': ','}\n",
      "{'retrieved_answer': ' test'}\n",
      "{'retrieved_answer': ','}\n",
      "{'retrieved_answer': ' evaluate'}\n",
      "{'retrieved_answer': ','}\n",
      "{'retrieved_answer': ' and'}\n",
      "{'retrieved_answer': ' monitor'}\n",
      "{'retrieved_answer': ' chains'}\n",
      "{'retrieved_answer': ' and'}\n",
      "{'retrieved_answer': ' intelligent'}\n",
      "{'retrieved_answer': ' agents'}\n",
      "{'retrieved_answer': ' built'}\n",
      "{'retrieved_answer': ' on'}\n",
      "{'retrieved_answer': ' any'}\n",
      "{'retrieved_answer': ' L'}\n",
      "{'retrieved_answer': 'LM'}\n",
      "{'retrieved_answer': ' framework'}\n",
      "{'retrieved_answer': '.'}\n",
      "{'retrieved_answer': ' It'}\n",
      "{'retrieved_answer': ' seamlessly'}\n",
      "{'retrieved_answer': ' integrates'}\n",
      "{'retrieved_answer': ' with'}\n",
      "{'retrieved_answer': ' Lang'}\n",
      "{'retrieved_answer': 'Chain'}\n",
      "{'retrieved_answer': ','}\n",
      "{'retrieved_answer': ' an'}\n",
      "{'retrieved_answer': ' open'}\n",
      "{'retrieved_answer': '-source'}\n",
      "{'retrieved_answer': ' framework'}\n",
      "{'retrieved_answer': ' for'}\n",
      "{'retrieved_answer': ' building'}\n",
      "{'retrieved_answer': ' with'}\n",
      "{'retrieved_answer': ' L'}\n",
      "{'retrieved_answer': 'LM'}\n",
      "{'retrieved_answer': 's'}\n",
      "{'retrieved_answer': '.'}\n",
      "{'retrieved_answer': ' Lang'}\n",
      "{'retrieved_answer': 'Smith'}\n",
      "{'retrieved_answer': ' offers'}\n",
      "{'retrieved_answer': ' tools'}\n",
      "{'retrieved_answer': ' for'}\n",
      "{'retrieved_answer': ' tracing'}\n",
      "{'retrieved_answer': ','}\n",
      "{'retrieved_answer': ' evaluating'}\n",
      "{'retrieved_answer': ','}\n",
      "{'retrieved_answer': ' and'}\n",
      "{'retrieved_answer': ' improving'}\n",
      "{'retrieved_answer': ' language'}\n",
      "{'retrieved_answer': ' model'}\n",
      "{'retrieved_answer': ' applications'}\n",
      "{'retrieved_answer': ' and'}\n",
      "{'retrieved_answer': ' intelligent'}\n",
      "{'retrieved_answer': ' agents'}\n",
      "{'retrieved_answer': ','}\n",
      "{'retrieved_answer': ' providing'}\n",
      "{'retrieved_answer': ' interactive'}\n",
      "{'retrieved_answer': ' walkthrough'}\n",
      "{'retrieved_answer': 's'}\n",
      "{'retrieved_answer': ','}\n",
      "{'retrieved_answer': ' documentation'}\n",
      "{'retrieved_answer': ','}\n",
      "{'retrieved_answer': ' and'}\n",
      "{'retrieved_answer': ' feedback'}\n",
      "{'retrieved_answer': ' options'}\n",
      "{'retrieved_answer': ' to'}\n",
      "{'retrieved_answer': ' help'}\n",
      "{'retrieved_answer': ' move'}\n",
      "{'retrieved_answer': ' from'}\n",
      "{'retrieved_answer': ' prototype'}\n",
      "{'retrieved_answer': ' to'}\n",
      "{'retrieved_answer': ' production'}\n",
      "{'retrieved_answer': '.'}\n",
      "{'retrieved_answer': ''}\n"
     ]
    }
   ],
   "source": [
    "for s in parallel_chain.stream({\"question\": \"what is langsmith\"}):\n",
    "    print(s)"
   ]
  },
  {
   "cell_type": "code",
   "execution_count": 22,
   "id": "5240238b-66a8-4109-aac0-a8dd6d2ec597",
   "metadata": {
    "tags": []
   },
   "outputs": [
    {
     "name": "stdout",
     "output_type": "stream",
     "text": [
      "{'simple_answer': ''}\n",
      "{'simple_answer': 'Lang'}\n",
      "{'simple_answer': 'Langsmith'}\n",
      "{'simple_answer': 'Langsmith is'}\n",
      "{'simple_answer': 'Langsmith is not'}\n",
      "{'simple_answer': 'Langsmith is not a'}\n",
      "{'simple_answer': 'Langsmith is not a recognized'}\n",
      "{'simple_answer': 'Langsmith is not a recognized term'}\n",
      "{'simple_answer': 'Langsmith is not a recognized term or'}\n",
      "{'simple_answer': 'Langsmith is not a recognized term or concept'}\n",
      "{'simple_answer': 'Langsmith is not a recognized term or concept.'}\n",
      "{'simple_answer': 'Langsmith is not a recognized term or concept. It'}\n",
      "{'simple_answer': 'Langsmith is not a recognized term or concept. It may'}\n",
      "{'simple_answer': 'Langsmith is not a recognized term or concept. It may be'}\n",
      "{'simple_answer': 'Langsmith is not a recognized term or concept. It may be a'}\n",
      "{'simple_answer': 'Langsmith is not a recognized term or concept. It may be a miss'}\n",
      "{'simple_answer': 'Langsmith is not a recognized term or concept. It may be a missp'}\n",
      "{'simple_answer': 'Langsmith is not a recognized term or concept. It may be a misspelling'}\n",
      "{'simple_answer': 'Langsmith is not a recognized term or concept. It may be a misspelling or'}\n",
      "{'simple_answer': 'Langsmith is not a recognized term or concept. It may be a misspelling or a'}\n",
      "{'simple_answer': 'Langsmith is not a recognized term or concept. It may be a misspelling or a made'}\n",
      "{'simple_answer': 'Langsmith is not a recognized term or concept. It may be a misspelling or a made-up'}\n",
      "{'simple_answer': 'Langsmith is not a recognized term or concept. It may be a misspelling or a made-up word'}\n",
      "{'simple_answer': 'Langsmith is not a recognized term or concept. It may be a misspelling or a made-up word.'}\n",
      "{'simple_answer': 'Langsmith is not a recognized term or concept. It may be a misspelling or a made-up word. Could'}\n",
      "{'simple_answer': 'Langsmith is not a recognized term or concept. It may be a misspelling or a made-up word. Could you'}\n",
      "{'simple_answer': 'Langsmith is not a recognized term or concept. It may be a misspelling or a made-up word. Could you provide'}\n",
      "{'simple_answer': 'Langsmith is not a recognized term or concept. It may be a misspelling or a made-up word. Could you provide more'}\n",
      "{'simple_answer': 'Langsmith is not a recognized term or concept. It may be a misspelling or a made-up word. Could you provide more context'}\n",
      "{'simple_answer': 'Langsmith is not a recognized term or concept. It may be a misspelling or a made-up word. Could you provide more context or'}\n",
      "{'simple_answer': 'Langsmith is not a recognized term or concept. It may be a misspelling or a made-up word. Could you provide more context or clarify'}\n",
      "{'simple_answer': 'Langsmith is not a recognized term or concept. It may be a misspelling or a made-up word. Could you provide more context or clarify what'}\n",
      "{'simple_answer': 'Langsmith is not a recognized term or concept. It may be a misspelling or a made-up word. Could you provide more context or clarify what you'}\n",
      "{'simple_answer': 'Langsmith is not a recognized term or concept. It may be a misspelling or a made-up word. Could you provide more context or clarify what you mean'}\n",
      "{'simple_answer': 'Langsmith is not a recognized term or concept. It may be a misspelling or a made-up word. Could you provide more context or clarify what you mean by'}\n",
      "{'simple_answer': 'Langsmith is not a recognized term or concept. It may be a misspelling or a made-up word. Could you provide more context or clarify what you mean by \"'}\n",
      "{'simple_answer': 'Langsmith is not a recognized term or concept. It may be a misspelling or a made-up word. Could you provide more context or clarify what you mean by \"lang'}\n",
      "{'simple_answer': 'Langsmith is not a recognized term or concept. It may be a misspelling or a made-up word. Could you provide more context or clarify what you mean by \"langsmith'}\n",
      "{'simple_answer': 'Langsmith is not a recognized term or concept. It may be a misspelling or a made-up word. Could you provide more context or clarify what you mean by \"langsmith\"?'}\n",
      "{'simple_answer': 'Langsmith is not a recognized term or concept. It may be a misspelling or a made-up word. Could you provide more context or clarify what you mean by \"langsmith\"?'}\n",
      "{'simple_answer': 'Langsmith is not a recognized term or concept. It may be a misspelling or a made-up word. Could you provide more context or clarify what you mean by \"langsmith\"?', 'retrieved_answer': ''}\n",
      "{'simple_answer': 'Langsmith is not a recognized term or concept. It may be a misspelling or a made-up word. Could you provide more context or clarify what you mean by \"langsmith\"?', 'retrieved_answer': 'Lang'}\n",
      "{'simple_answer': 'Langsmith is not a recognized term or concept. It may be a misspelling or a made-up word. Could you provide more context or clarify what you mean by \"langsmith\"?', 'retrieved_answer': 'LangSmith'}\n",
      "{'simple_answer': 'Langsmith is not a recognized term or concept. It may be a misspelling or a made-up word. Could you provide more context or clarify what you mean by \"langsmith\"?', 'retrieved_answer': 'LangSmith is'}\n",
      "{'simple_answer': 'Langsmith is not a recognized term or concept. It may be a misspelling or a made-up word. Could you provide more context or clarify what you mean by \"langsmith\"?', 'retrieved_answer': 'LangSmith is a'}\n",
      "{'simple_answer': 'Langsmith is not a recognized term or concept. It may be a misspelling or a made-up word. Could you provide more context or clarify what you mean by \"langsmith\"?', 'retrieved_answer': 'LangSmith is a platform'}\n",
      "{'simple_answer': 'Langsmith is not a recognized term or concept. It may be a misspelling or a made-up word. Could you provide more context or clarify what you mean by \"langsmith\"?', 'retrieved_answer': 'LangSmith is a platform that'}\n",
      "{'simple_answer': 'Langsmith is not a recognized term or concept. It may be a misspelling or a made-up word. Could you provide more context or clarify what you mean by \"langsmith\"?', 'retrieved_answer': 'LangSmith is a platform that helps'}\n",
      "{'simple_answer': 'Langsmith is not a recognized term or concept. It may be a misspelling or a made-up word. Could you provide more context or clarify what you mean by \"langsmith\"?', 'retrieved_answer': 'LangSmith is a platform that helps you'}\n",
      "{'simple_answer': 'Langsmith is not a recognized term or concept. It may be a misspelling or a made-up word. Could you provide more context or clarify what you mean by \"langsmith\"?', 'retrieved_answer': 'LangSmith is a platform that helps you build'}\n",
      "{'simple_answer': 'Langsmith is not a recognized term or concept. It may be a misspelling or a made-up word. Could you provide more context or clarify what you mean by \"langsmith\"?', 'retrieved_answer': 'LangSmith is a platform that helps you build,'}\n",
      "{'simple_answer': 'Langsmith is not a recognized term or concept. It may be a misspelling or a made-up word. Could you provide more context or clarify what you mean by \"langsmith\"?', 'retrieved_answer': 'LangSmith is a platform that helps you build, debug'}\n",
      "{'simple_answer': 'Langsmith is not a recognized term or concept. It may be a misspelling or a made-up word. Could you provide more context or clarify what you mean by \"langsmith\"?', 'retrieved_answer': 'LangSmith is a platform that helps you build, debug,'}\n",
      "{'simple_answer': 'Langsmith is not a recognized term or concept. It may be a misspelling or a made-up word. Could you provide more context or clarify what you mean by \"langsmith\"?', 'retrieved_answer': 'LangSmith is a platform that helps you build, debug, and'}\n",
      "{'simple_answer': 'Langsmith is not a recognized term or concept. It may be a misspelling or a made-up word. Could you provide more context or clarify what you mean by \"langsmith\"?', 'retrieved_answer': 'LangSmith is a platform that helps you build, debug, and deploy'}\n",
      "{'simple_answer': 'Langsmith is not a recognized term or concept. It may be a misspelling or a made-up word. Could you provide more context or clarify what you mean by \"langsmith\"?', 'retrieved_answer': 'LangSmith is a platform that helps you build, debug, and deploy language'}\n",
      "{'simple_answer': 'Langsmith is not a recognized term or concept. It may be a misspelling or a made-up word. Could you provide more context or clarify what you mean by \"langsmith\"?', 'retrieved_answer': 'LangSmith is a platform that helps you build, debug, and deploy language model'}\n",
      "{'simple_answer': 'Langsmith is not a recognized term or concept. It may be a misspelling or a made-up word. Could you provide more context or clarify what you mean by \"langsmith\"?', 'retrieved_answer': 'LangSmith is a platform that helps you build, debug, and deploy language model applications'}\n",
      "{'simple_answer': 'Langsmith is not a recognized term or concept. It may be a misspelling or a made-up word. Could you provide more context or clarify what you mean by \"langsmith\"?', 'retrieved_answer': 'LangSmith is a platform that helps you build, debug, and deploy language model applications and'}\n",
      "{'simple_answer': 'Langsmith is not a recognized term or concept. It may be a misspelling or a made-up word. Could you provide more context or clarify what you mean by \"langsmith\"?', 'retrieved_answer': 'LangSmith is a platform that helps you build, debug, and deploy language model applications and intelligent'}\n",
      "{'simple_answer': 'Langsmith is not a recognized term or concept. It may be a misspelling or a made-up word. Could you provide more context or clarify what you mean by \"langsmith\"?', 'retrieved_answer': 'LangSmith is a platform that helps you build, debug, and deploy language model applications and intelligent agents'}\n",
      "{'simple_answer': 'Langsmith is not a recognized term or concept. It may be a misspelling or a made-up word. Could you provide more context or clarify what you mean by \"langsmith\"?', 'retrieved_answer': 'LangSmith is a platform that helps you build, debug, and deploy language model applications and intelligent agents.'}\n",
      "{'simple_answer': 'Langsmith is not a recognized term or concept. It may be a misspelling or a made-up word. Could you provide more context or clarify what you mean by \"langsmith\"?', 'retrieved_answer': 'LangSmith is a platform that helps you build, debug, and deploy language model applications and intelligent agents. It'}\n",
      "{'simple_answer': 'Langsmith is not a recognized term or concept. It may be a misspelling or a made-up word. Could you provide more context or clarify what you mean by \"langsmith\"?', 'retrieved_answer': 'LangSmith is a platform that helps you build, debug, and deploy language model applications and intelligent agents. It allows'}\n",
      "{'simple_answer': 'Langsmith is not a recognized term or concept. It may be a misspelling or a made-up word. Could you provide more context or clarify what you mean by \"langsmith\"?', 'retrieved_answer': 'LangSmith is a platform that helps you build, debug, and deploy language model applications and intelligent agents. It allows you'}\n",
      "{'simple_answer': 'Langsmith is not a recognized term or concept. It may be a misspelling or a made-up word. Could you provide more context or clarify what you mean by \"langsmith\"?', 'retrieved_answer': 'LangSmith is a platform that helps you build, debug, and deploy language model applications and intelligent agents. It allows you to'}\n",
      "{'simple_answer': 'Langsmith is not a recognized term or concept. It may be a misspelling or a made-up word. Could you provide more context or clarify what you mean by \"langsmith\"?', 'retrieved_answer': 'LangSmith is a platform that helps you build, debug, and deploy language model applications and intelligent agents. It allows you to visualize'}\n",
      "{'simple_answer': 'Langsmith is not a recognized term or concept. It may be a misspelling or a made-up word. Could you provide more context or clarify what you mean by \"langsmith\"?', 'retrieved_answer': 'LangSmith is a platform that helps you build, debug, and deploy language model applications and intelligent agents. It allows you to visualize the'}\n",
      "{'simple_answer': 'Langsmith is not a recognized term or concept. It may be a misspelling or a made-up word. Could you provide more context or clarify what you mean by \"langsmith\"?', 'retrieved_answer': 'LangSmith is a platform that helps you build, debug, and deploy language model applications and intelligent agents. It allows you to visualize the inputs'}\n",
      "{'simple_answer': 'Langsmith is not a recognized term or concept. It may be a misspelling or a made-up word. Could you provide more context or clarify what you mean by \"langsmith\"?', 'retrieved_answer': 'LangSmith is a platform that helps you build, debug, and deploy language model applications and intelligent agents. It allows you to visualize the inputs and'}\n",
      "{'simple_answer': 'Langsmith is not a recognized term or concept. It may be a misspelling or a made-up word. Could you provide more context or clarify what you mean by \"langsmith\"?', 'retrieved_answer': 'LangSmith is a platform that helps you build, debug, and deploy language model applications and intelligent agents. It allows you to visualize the inputs and outputs'}\n",
      "{'simple_answer': 'Langsmith is not a recognized term or concept. It may be a misspelling or a made-up word. Could you provide more context or clarify what you mean by \"langsmith\"?', 'retrieved_answer': 'LangSmith is a platform that helps you build, debug, and deploy language model applications and intelligent agents. It allows you to visualize the inputs and outputs of'}\n",
      "{'simple_answer': 'Langsmith is not a recognized term or concept. It may be a misspelling or a made-up word. Could you provide more context or clarify what you mean by \"langsmith\"?', 'retrieved_answer': 'LangSmith is a platform that helps you build, debug, and deploy language model applications and intelligent agents. It allows you to visualize the inputs and outputs of each'}\n",
      "{'simple_answer': 'Langsmith is not a recognized term or concept. It may be a misspelling or a made-up word. Could you provide more context or clarify what you mean by \"langsmith\"?', 'retrieved_answer': 'LangSmith is a platform that helps you build, debug, and deploy language model applications and intelligent agents. It allows you to visualize the inputs and outputs of each step'}\n",
      "{'simple_answer': 'Langsmith is not a recognized term or concept. It may be a misspelling or a made-up word. Could you provide more context or clarify what you mean by \"langsmith\"?', 'retrieved_answer': 'LangSmith is a platform that helps you build, debug, and deploy language model applications and intelligent agents. It allows you to visualize the inputs and outputs of each step in'}\n",
      "{'simple_answer': 'Langsmith is not a recognized term or concept. It may be a misspelling or a made-up word. Could you provide more context or clarify what you mean by \"langsmith\"?', 'retrieved_answer': 'LangSmith is a platform that helps you build, debug, and deploy language model applications and intelligent agents. It allows you to visualize the inputs and outputs of each step in the'}\n",
      "{'simple_answer': 'Langsmith is not a recognized term or concept. It may be a misspelling or a made-up word. Could you provide more context or clarify what you mean by \"langsmith\"?', 'retrieved_answer': 'LangSmith is a platform that helps you build, debug, and deploy language model applications and intelligent agents. It allows you to visualize the inputs and outputs of each step in the chain'}\n",
      "{'simple_answer': 'Langsmith is not a recognized term or concept. It may be a misspelling or a made-up word. Could you provide more context or clarify what you mean by \"langsmith\"?', 'retrieved_answer': 'LangSmith is a platform that helps you build, debug, and deploy language model applications and intelligent agents. It allows you to visualize the inputs and outputs of each step in the chain,'}\n",
      "{'simple_answer': 'Langsmith is not a recognized term or concept. It may be a misspelling or a made-up word. Could you provide more context or clarify what you mean by \"langsmith\"?', 'retrieved_answer': 'LangSmith is a platform that helps you build, debug, and deploy language model applications and intelligent agents. It allows you to visualize the inputs and outputs of each step in the chain, run'}\n",
      "{'simple_answer': 'Langsmith is not a recognized term or concept. It may be a misspelling or a made-up word. Could you provide more context or clarify what you mean by \"langsmith\"?', 'retrieved_answer': 'LangSmith is a platform that helps you build, debug, and deploy language model applications and intelligent agents. It allows you to visualize the inputs and outputs of each step in the chain, run experiments'}\n",
      "{'simple_answer': 'Langsmith is not a recognized term or concept. It may be a misspelling or a made-up word. Could you provide more context or clarify what you mean by \"langsmith\"?', 'retrieved_answer': 'LangSmith is a platform that helps you build, debug, and deploy language model applications and intelligent agents. It allows you to visualize the inputs and outputs of each step in the chain, run experiments,'}\n",
      "{'simple_answer': 'Langsmith is not a recognized term or concept. It may be a misspelling or a made-up word. Could you provide more context or clarify what you mean by \"langsmith\"?', 'retrieved_answer': 'LangSmith is a platform that helps you build, debug, and deploy language model applications and intelligent agents. It allows you to visualize the inputs and outputs of each step in the chain, run experiments, and'}\n",
      "{'simple_answer': 'Langsmith is not a recognized term or concept. It may be a misspelling or a made-up word. Could you provide more context or clarify what you mean by \"langsmith\"?', 'retrieved_answer': 'LangSmith is a platform that helps you build, debug, and deploy language model applications and intelligent agents. It allows you to visualize the inputs and outputs of each step in the chain, run experiments, and share'}\n",
      "{'simple_answer': 'Langsmith is not a recognized term or concept. It may be a misspelling or a made-up word. Could you provide more context or clarify what you mean by \"langsmith\"?', 'retrieved_answer': 'LangSmith is a platform that helps you build, debug, and deploy language model applications and intelligent agents. It allows you to visualize the inputs and outputs of each step in the chain, run experiments, and share your'}\n",
      "{'simple_answer': 'Langsmith is not a recognized term or concept. It may be a misspelling or a made-up word. Could you provide more context or clarify what you mean by \"langsmith\"?', 'retrieved_answer': 'LangSmith is a platform that helps you build, debug, and deploy language model applications and intelligent agents. It allows you to visualize the inputs and outputs of each step in the chain, run experiments, and share your results'}\n",
      "{'simple_answer': 'Langsmith is not a recognized term or concept. It may be a misspelling or a made-up word. Could you provide more context or clarify what you mean by \"langsmith\"?', 'retrieved_answer': 'LangSmith is a platform that helps you build, debug, and deploy language model applications and intelligent agents. It allows you to visualize the inputs and outputs of each step in the chain, run experiments, and share your results with'}\n",
      "{'simple_answer': 'Langsmith is not a recognized term or concept. It may be a misspelling or a made-up word. Could you provide more context or clarify what you mean by \"langsmith\"?', 'retrieved_answer': 'LangSmith is a platform that helps you build, debug, and deploy language model applications and intelligent agents. It allows you to visualize the inputs and outputs of each step in the chain, run experiments, and share your results with the'}\n",
      "{'simple_answer': 'Langsmith is not a recognized term or concept. It may be a misspelling or a made-up word. Could you provide more context or clarify what you mean by \"langsmith\"?', 'retrieved_answer': 'LangSmith is a platform that helps you build, debug, and deploy language model applications and intelligent agents. It allows you to visualize the inputs and outputs of each step in the chain, run experiments, and share your results with the community'}\n",
      "{'simple_answer': 'Langsmith is not a recognized term or concept. It may be a misspelling or a made-up word. Could you provide more context or clarify what you mean by \"langsmith\"?', 'retrieved_answer': 'LangSmith is a platform that helps you build, debug, and deploy language model applications and intelligent agents. It allows you to visualize the inputs and outputs of each step in the chain, run experiments, and share your results with the community.'}\n",
      "{'simple_answer': 'Langsmith is not a recognized term or concept. It may be a misspelling or a made-up word. Could you provide more context or clarify what you mean by \"langsmith\"?', 'retrieved_answer': 'LangSmith is a platform that helps you build, debug, and deploy language model applications and intelligent agents. It allows you to visualize the inputs and outputs of each step in the chain, run experiments, and share your results with the community.'}\n"
     ]
    }
   ],
   "source": [
    "result = {}\n",
    "for s in parallel_chain.stream({\"question\": \"what is langsmith\"}):\n",
    "    for k,v in s.items():\n",
    "        if k not in result:\n",
    "            result[k] = \"\"\n",
    "        result[k] += v\n",
    "    print(result)"
   ]
  },
  {
   "cell_type": "code",
   "execution_count": null,
   "id": "5ddb9647-9733-4839-bd1d-a98f8cf12a6b",
   "metadata": {},
   "outputs": [],
   "source": []
  }
 ],
 "metadata": {
  "kernelspec": {
   "display_name": "conda_python3",
   "language": "python",
   "name": "conda_python3"
  },
  "language_info": {
   "codemirror_mode": {
    "name": "ipython",
    "version": 3
   },
   "file_extension": ".py",
   "mimetype": "text/x-python",
   "name": "python",
   "nbconvert_exporter": "python",
   "pygments_lexer": "ipython3",
   "version": "3.10.14"
  }
 },
 "nbformat": 4,
 "nbformat_minor": 5
}
